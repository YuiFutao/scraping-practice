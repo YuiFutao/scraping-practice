{
 "cells": [
  {
   "cell_type": "code",
   "execution_count": 4,
   "metadata": {},
   "outputs": [],
   "source": [
    "from selenium import webdriver\n",
    "\n",
    "# driver作成\n",
    "driver = webdriver.Chrome('chromedriver.exe')\n",
    "driver.set_window_size(1400,800)\n",
    "driver.set_window_position(1500,10)\n",
    "driver.get('https://scraping-for-beginner.herokuapp.com/ranking/')"
   ]
  },
  {
   "cell_type": "code",
   "execution_count": 19,
   "metadata": {},
   "outputs": [
    {
     "data": {
      "text/plain": [
       "'観光地 1'"
      ]
     },
     "execution_count": 19,
     "metadata": {},
     "output_type": "execute_result"
    }
   ],
   "source": [
    "# 一つの観光地を取得する\n",
    "\n",
    "# 大きい範囲でclassを指定してエレメントを取得する\n",
    "elem = driver.find_element_by_class_name('u_areaListRankingBox')\n",
    "\n",
    "# 中身を調査\n",
    "type(elem)\n",
    "elem.text\n",
    "\n",
    "# classで更に取得する文字列を絞る\n",
    "title = elem.find_element_by_class_name('u_title')\n",
    "titleText = title.text #この時点では余計な文字が含まれる →「'1\\n観光地 1'」こんな感じ\n",
    "\n",
    "titleText.split('\\n')[1]"
   ]
  },
  {
   "cell_type": "code",
   "execution_count": 24,
   "metadata": {},
   "outputs": [
    {
     "data": {
      "text/plain": [
       "'4.7'"
      ]
     },
     "execution_count": 24,
     "metadata": {},
     "output_type": "execute_result"
    }
   ],
   "source": [
    "# 総合評価の星の数を取得する（最初の一個だけ）\n",
    "\n",
    "# xpathを使ってみた\n",
    "elem = driver.find_element_by_xpath('/html/body/div[2]/div/div[3]/div[3]/span[2]')\n",
    "elem.text\n",
    "\n",
    "elem2 = driver.find_element_by_class_name('u_rankBox').find_element_by_class_name('evaluateNumber')\n",
    "elem2.text"
   ]
  },
  {
   "cell_type": "code",
   "execution_count": 66,
   "metadata": {},
   "outputs": [
    {
     "data": {
      "text/plain": [
       "'観光地 4'"
      ]
     },
     "execution_count": 66,
     "metadata": {},
     "output_type": "execute_result"
    }
   ],
   "source": [
    "# 観光地名を10個を一気に取得して表示する\n",
    "\n",
    "# 10個取得\n",
    "elems = driver.find_elements_by_class_name('u_title')\n",
    "\n",
    "# 最初の一個で試す\n",
    "elem = elems[0]\n",
    "title = elem.text.split('\\n')[1]\n",
    "title\n",
    "\n"
   ]
  },
  {
   "cell_type": "code",
   "execution_count": 70,
   "metadata": {},
   "outputs": [
    {
     "data": {
      "text/plain": [
       "['観光地 1',\n",
       " '観光地 2',\n",
       " '観光地 3',\n",
       " '観光地 4',\n",
       " '観光地 5',\n",
       " '観光地 6',\n",
       " '観光地 7',\n",
       " '観光地 8',\n",
       " '観光地 9',\n",
       " '観光地 10']"
      ]
     },
     "execution_count": 70,
     "metadata": {},
     "output_type": "execute_result"
    }
   ],
   "source": [
    "# 複数で試す\n",
    "titles = []\n",
    "elems = driver.find_elements_by_class_name('u_title')\n",
    "\n",
    "for elem in elems:\n",
    "    title = elem.text.split('\\n')[1]\n",
    "    titles.append(title)\n",
    "\n",
    "titles"
   ]
  },
  {
   "cell_type": "code",
   "execution_count": null,
   "metadata": {},
   "outputs": [],
   "source": [
    "# 一つだけ試す お手本\n",
    "elems_rankingBox = driver.find_elements_by_class_name('u_areaListRankingBox')\n",
    "elem_rankingBox = elems_rankingBox[3]\n",
    "elem_title = elem_rankingBox.find_element_by_class_name('u_title')\n",
    "title = elem_title.text.split('\\n')[1]\n",
    "title"
   ]
  },
  {
   "cell_type": "code",
   "execution_count": 69,
   "metadata": {},
   "outputs": [
    {
     "data": {
      "text/plain": [
       "['観光地 1',\n",
       " '観光地 2',\n",
       " '観光地 3',\n",
       " '観光地 4',\n",
       " '観光地 5',\n",
       " '観光地 6',\n",
       " '観光地 7',\n",
       " '観光地 8',\n",
       " '観光地 9',\n",
       " '観光地 10']"
      ]
     },
     "execution_count": 69,
     "metadata": {},
     "output_type": "execute_result"
    }
   ],
   "source": [
    "# 複数で試す お手本 （for文を作る時に一つだけから大半がコピペでできる）\n",
    "titles = []\n",
    "\n",
    "elems_rankingBox = driver.find_elements_by_class_name('u_areaListRankingBox')\n",
    "for elem_rankingBox in elems_rankingBox:\n",
    "\n",
    "    #elem_rankingBox = elems_rankingBox[3]\n",
    "    elem_title = elem_rankingBox.find_element_by_class_name('u_title')\n",
    "    title = elem_title.text.split('\\n')[1]\n",
    "    titles.append(title)\n",
    "titles"
   ]
  },
  {
   "cell_type": "code",
   "execution_count": null,
   "metadata": {},
   "outputs": [],
   "source": []
  },
  {
   "cell_type": "code",
   "execution_count": null,
   "metadata": {},
   "outputs": [],
   "source": []
  },
  {
   "cell_type": "code",
   "execution_count": null,
   "metadata": {},
   "outputs": [],
   "source": []
  },
  {
   "cell_type": "code",
   "execution_count": 3,
   "metadata": {},
   "outputs": [],
   "source": [
    "driver.quit()"
   ]
  }
 ],
 "metadata": {
  "kernelspec": {
   "display_name": "Python 3",
   "language": "python",
   "name": "python3"
  },
  "language_info": {
   "codemirror_mode": {
    "name": "ipython",
    "version": 3
   },
   "file_extension": ".py",
   "mimetype": "text/x-python",
   "name": "python",
   "nbconvert_exporter": "python",
   "pygments_lexer": "ipython3",
   "version": "3.7.4"
  }
 },
 "nbformat": 4,
 "nbformat_minor": 2
}
